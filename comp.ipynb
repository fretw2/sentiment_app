{
 "cells": [
  {
   "cell_type": "code",
   "execution_count": null,
   "metadata": {},
   "outputs": [],
   "source": [
    "import numpy as np\n",
    "from fastapi import FastAPI, Form\n",
    "import pandas as pd\n",
    "from starlette.responses import HTMLResponse\n",
    "from tensorflow.keras.preprocessing.text import Tokenizer\n",
    "from tensorflow.keras.preprocessing.sequence import pad_sequences\n",
    "import tensorflow as tf\n",
    "import re\n",
    "\n",
    "def preProcess_data(text): #cleaning the data\n",
    "    text = text.lower()\n",
    "    new_text = re.sub('[^a-zA-z0-9\\s]','',text)\n",
    "    new_text = re.sub('rt', '', new_text)\n",
    "    return new_text\n",
    "\n",
    "app = FastAPI()\n",
    "data = pd.read_csv('archive/Sentiment.csv')\n",
    "tokenizer = Tokenizer(num_words=2000, split=' ')\n",
    "tokenizer.fit_on_texts(data['text'].values)\n",
    "\n",
    "def my_pipeline(text): #pipeline\n",
    "    text_new = preProcess_data(text)\n",
    "    X = tokenizer.texts_to_sequences(pd.Series(text_new).values)\n",
    "    X = pad_sequences(X, maxlen=28)\n",
    "    return X\n",
    "\n",
    "@app.get('/') #basic get view\n",
    "def basic_view():\n",
    "    return {\"WELCOME\": \"GO TO /docs route, or /post or send post request to /predict \"}\n",
    "\n",
    "@app.get('/predict', response_class=HTMLResponse) #data input by forms\n",
    "def take_inp():\n",
    "    return '''<form method=\"post\">\n",
    " <input type=\"text\" maxlength=\"28\" name=\"text\" value=\"Text Emotion to be tested\"/>\n",
    " <input type=\"submit\"/>\n",
    " </form>'''\n",
    "\n",
    "@app.post('/predict') #prediction on data\n",
    "def predict(text:str = Form(...)): #input is from forms\n",
    "    clean_text = my_pipeline(text) #cleaning and preprocessing of the texts\n",
    "    loaded_model = tf.keras.models.load_model('sentiment.h5') #loading the saved model\n",
    "    predictions = loaded_model.predict(clean_text) #making predictions\n",
    "    sentiment = int(np.argmax(predictions)) #index of maximum prediction\n",
    "    probability = max(predictions.tolist()[0]) #probability of maximum prediction\n",
    "    if sentiment==0: #assigning appropriate name to prediction\n",
    "        t_sentiment = 'negative'\n",
    "    elif sentiment==1:\n",
    "        t_sentiment = 'neutral'\n",
    "    elif sentiment==2:\n",
    "        t_sentiment='postive'\n",
    "\n",
    "    return { #returning a dictionary as endpoint\n",
    "        \"ACTUAL SENTENCE\": text,\n",
    "        \"PREDICTED SENTIMENT\": t_sentiment,\n",
    "        \"Probability\": probability\n",
    "     }\n"
   ]
  }
 ],
 "metadata": {
  "kernelspec": {
   "display_name": "Python 3",
   "language": "python",
   "name": "python3"
  },
  "language_info": {
   "codemirror_mode": {
    "name": "ipython",
    "version": 3
   },
   "file_extension": ".py",
   "mimetype": "text/x-python",
   "name": "python",
   "nbconvert_exporter": "python",
   "pygments_lexer": "ipython3",
   "version": "3.7.6"
  }
 },
 "nbformat": 4,
 "nbformat_minor": 4
}
